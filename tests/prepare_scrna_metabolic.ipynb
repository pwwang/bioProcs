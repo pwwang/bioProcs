{
 "cells": [
  {
   "cell_type": "code",
   "execution_count": 2,
   "metadata": {},
   "outputs": [],
   "source": [
    "library(Seurat)\n",
    "\n",
    "# Download data (tcell rds and metadata) from\n",
    "# https://www.ncbi.nlm.nih.gov/geo/query/acc.cgi?acc=GSE123813\n",
    "\n",
    "count_file <- \"test_data/scrna_metabolic/GSE123813_bcc_scRNA_counts.txt.gz\"\n",
    "meta_file <- \"test_data/scrna_metabolic/GSE123813_bcc_all_metadata.txt.gz\"\n",
    "\n",
    "counts <- read.table(count_file, header = TRUE, row.names = 1, sep = \"\\t\", check.names = F)\n",
    "metadata <- read.table(meta_file, header = TRUE, row.names = 1, sep = \"\\t\", check.names = F)"
   ]
  },
  {
   "cell_type": "code",
   "execution_count": 8,
   "metadata": {},
   "outputs": [],
   "source": [
    "# Subset 1000 cells for jusb demo purpose\n",
    "counts = counts[, sample(1:ncol(counts), 1000)]\n",
    "metadata = metadata[colnames(counts),]"
   ]
  },
  {
   "cell_type": "code",
   "execution_count": 21,
   "metadata": {},
   "outputs": [
    {
     "name": "stderr",
     "output_type": "stream",
     "text": [
      "Warning message:\n",
      "\"Feature names cannot have underscores ('_'), replacing with dashes ('-')\"\n",
      "Centering and scaling data matrix\n",
      "\n",
      "PC_ 1 \n",
      "Positive:  CALD1, EMP2, SPARC, CAV1, EMP1, ACTN1, KRT17, BGN, DSP, RAB13 \n",
      "\t   RND3, S100A16, KRT14, S100A14, S100A2, CD9, FHL2, IER3, GJB2, TRIM29 \n",
      "\t   TSC22D1, KRT15, SFN, FSTL1, DDR1, IGFBP7, JUP, PTRF, KRT5, FOSL1 \n",
      "Negative:  CD74, CRIP1, RARRES3, RGS1, LAT, CD69, NKG7, HLA-DPA1, TNFRSF4, CD27 \n",
      "\t   GZMA, HLA-DRB1, CXCR6, CTSW, GPR183, LDLRAD4, ICOS, HIST1H4C, GZMK, AC092580.4 \n",
      "\t   SLC9A3R1, CCR7, S100A4, HLA-DPB1, HMGB2, GBP5, SELL, CXCR3, LAG3, HLA-DRB5 \n",
      "PC_ 2 \n",
      "Positive:  DSP, DSC3, SFN, SERPINB5, KRT17, S100A14, KRT15, KRT16, IRF6, TRIM29 \n",
      "\t   KRT14, LGALS7B, JUP, PERP, TACSTD2, GJB2, KRT5, KRT6B, DDR1, S100A2 \n",
      "\t   PKP1, CDH3, KRT6A, FXYD3, GJB3, MPZL2, CXADR, DSC2, DSG3, GRHL3 \n",
      "Negative:  COL1A2, COL3A1, LUM, COL6A1, MXRA8, FN1, CTSK, COL1A1, COL6A3, DCN \n",
      "\t   MMP2, COL6A2, PRRX1, FKBP10, TNFAIP6, FAP, PCOLCE, PDGFRB, NNMT, AEBP1 \n",
      "\t   C1S, CCDC80, SFRP2, RCN3, PDPN, SERPINF1, COL5A2, CTHRC1, COL5A1, COL12A1 \n",
      "PC_ 3 \n",
      "Positive:  LYZ, TYROBP, SPI1, FCER1G, KYNU, C15orf48, BCL2A1, HLA-DRA, CD68, AIF1 \n",
      "\t   CST3, CTSZ, SERPINA1, CSF2RA, HLA-DRB5, SLC7A11, LST1, MS4A7, ALDH2, FAM49A \n",
      "\t   IFI30, HLA-DRB1, GPR157, PLEK, HLA-DPB1, IL1B, CD86, CCDC88A, HLA-DPA1, RNF144B \n",
      "Negative:  MT2A, MT1X, BGN, MT1E, COL6A2, COL1A2, COL6A1, COL5A2, MXRA8, DCN \n",
      "\t   COL12A1, COL3A1, COL1A1, LUM, MFAP2, PCOLCE, MT1F, MMP2, COL5A1, COL6A3 \n",
      "\t   PRRX1, C1S, AEBP1, CTSK, FAP, LAT, PDGFRB, RARRES3, THY1, EFEMP2 \n",
      "PC_ 4 \n",
      "Positive:  BCAM, LRIG3, GJB6, BNC2, PTCH2, CREB5, CHGA, LGR5, PRAME, CLDN6 \n",
      "\t   PDGFC, SLC7A2, CLDN1, NFIB, IRX2, MAGEA4, TFAP2B, GJA1, KRT8, FLRT3 \n",
      "\t   TUSC3, SDC2, ANOS1, SPON2, EPCAM, STC1, KRT19, STAC2, FLRT2, LRRTM4 \n",
      "Negative:  MKI67, RRM2, BIRC5, KIFC1, UBE2C, GTSE1, TYMS, PKMYT1, AURKB, CDCA5 \n",
      "\t   ESCO2, CCNA2, TK1, CKAP2L, DLGAP5, TPX2, UHRF1, TOP2A, TROAP, ASPM \n",
      "\t   CENPW, CENPA, ASF1B, CDC20, HJURP, KIF2C, FAM111B, LY6D, CENPU, KIF23 \n",
      "PC_ 5 \n",
      "Positive:  DSG3, KRTDAP, KRT6A, HES2, LY6D, CLDN7, DSG1, EPHX3, DMKN, KRT1 \n",
      "\t   S100A7, CLDN4, GSDMC, CRABP2, SLPI, TINCR, ALDH1A1, ADIRF, PHLDB2, SDCBP2 \n",
      "\t   GJB3, LYPD3, GRHL3, PVRL4, KRT16, TACSTD2, GJB5, SERPINB13, MPZL2, KRT23 \n",
      "Negative:  UBE2C, GTSE1, BIRC5, RRM2, CCNA2, TYMS, TOP2A, TK1, DLGAP5, MKI67 \n",
      "\t   PKMYT1, CENPA, KIFC1, CDCA5, UHRF1, ASF1B, AURKB, FAM111B, TROAP, CKAP2L \n",
      "\t   HJURP, ESCO2, FOXM1, CDK1, ZWINT, E2F2, CLSPN, HIST1H1B, CDT1, MCM10 \n",
      "\n"
     ]
    }
   ],
   "source": [
    "# Create seurat object\n",
    "seurat_obj = CreateSeuratObject(counts=counts)\n",
    "seurat_obj@meta.data = cbind(\n",
    "    seurat_obj@meta.data, \n",
    "    metadata[rownames(seurat_obj@meta.data),]\n",
    ")\n",
    "seurat_obj = NormalizeData(seurat_obj)\n",
    "all.genes <- rownames(seurat_obj)\n",
    "seurat_obj <- ScaleData(seurat_obj, features = all.genes)\n",
    "seurat_obj <- FindVariableFeatures(object = seurat_obj)\n",
    "seurat_obj <- RunPCA(seurat_obj, features = VariableFeatures(object = seurat_obj))"
   ]
  },
  {
   "cell_type": "code",
   "execution_count": 22,
   "metadata": {},
   "outputs": [
    {
     "name": "stderr",
     "output_type": "stream",
     "text": [
      "Computing nearest neighbor graph\n",
      "\n",
      "Computing SNN\n",
      "\n"
     ]
    },
    {
     "name": "stdout",
     "output_type": "stream",
     "text": [
      "Modularity Optimizer version 1.3.0 by Ludo Waltman and Nees Jan van Eck\n",
      "\n",
      "Number of nodes: 1000\n",
      "Number of edges: 30631\n",
      "\n",
      "Running Louvain algorithm...\n",
      "Maximum modularity in 10 random starts: 0.8795\n",
      "Number of communities: 9\n",
      "Elapsed time: 0 seconds\n"
     ]
    },
    {
     "data": {
      "text/html": [
       "<style>\n",
       ".dl-inline {width: auto; margin:0; padding: 0}\n",
       ".dl-inline>dt, .dl-inline>dd {float: none; width: auto; display: inline-block}\n",
       ".dl-inline>dt::after {content: \":\\0020\"; padding-right: .5ex}\n",
       ".dl-inline>dt:not(:first-of-type) {padding-left: .5ex}\n",
       "</style><dl class=dl-inline><dt>bcc.su009.post.tcell_CCATTCGCAATCTACG</dt><dd>0</dd><dt>bcc.su004.pre.tcell_ACAGCTACACTTCTGC</dt><dd>0</dd><dt>bcc.su006.pre.tcell_CGTGTAAAGTGACTCT</dt><dd>1</dd><dt>bcc.su001.post.tcell_CCTTTCTGTACCGTTA</dt><dd>2</dd><dt>bcc.su007.pre.tcell_ATTTCTGAGAAGGACA</dt><dd>1</dd><dt>bcc.su009.pre.tcell_AGACGTTTCCTGCAGG</dt><dd>8</dd></dl>\n",
       "\n",
       "<details>\n",
       "\t<summary style=display:list-item;cursor:pointer>\n",
       "\t\t<strong>Levels</strong>:\n",
       "\t</summary>\n",
       "\t<style>\n",
       "\t.list-inline {list-style: none; margin:0; padding: 0}\n",
       "\t.list-inline>li {display: inline-block}\n",
       "\t.list-inline>li:not(:last-child)::after {content: \"\\00b7\"; padding: 0 .5ex}\n",
       "\t</style>\n",
       "\t<ol class=list-inline><li>'0'</li><li>'1'</li><li>'2'</li><li>'3'</li><li>'4'</li><li>'5'</li><li>'6'</li><li>'7'</li><li>'8'</li></ol>\n",
       "</details>"
      ],
      "text/latex": [
       "\\begin{description*}\n",
       "\\item[bcc.su009.post.tcell\\textbackslash{}\\_CCATTCGCAATCTACG] 0\n",
       "\\item[bcc.su004.pre.tcell\\textbackslash{}\\_ACAGCTACACTTCTGC] 0\n",
       "\\item[bcc.su006.pre.tcell\\textbackslash{}\\_CGTGTAAAGTGACTCT] 1\n",
       "\\item[bcc.su001.post.tcell\\textbackslash{}\\_CCTTTCTGTACCGTTA] 2\n",
       "\\item[bcc.su007.pre.tcell\\textbackslash{}\\_ATTTCTGAGAAGGACA] 1\n",
       "\\item[bcc.su009.pre.tcell\\textbackslash{}\\_AGACGTTTCCTGCAGG] 8\n",
       "\\end{description*}\n",
       "\n",
       "\\emph{Levels}: \\begin{enumerate*}\n",
       "\\item '0'\n",
       "\\item '1'\n",
       "\\item '2'\n",
       "\\item '3'\n",
       "\\item '4'\n",
       "\\item '5'\n",
       "\\item '6'\n",
       "\\item '7'\n",
       "\\item '8'\n",
       "\\end{enumerate*}\n"
      ],
      "text/markdown": [
       "bcc.su009.post.tcell_CCATTCGCAATCTACG\n",
       ":   0bcc.su004.pre.tcell_ACAGCTACACTTCTGC\n",
       ":   0bcc.su006.pre.tcell_CGTGTAAAGTGACTCT\n",
       ":   1bcc.su001.post.tcell_CCTTTCTGTACCGTTA\n",
       ":   2bcc.su007.pre.tcell_ATTTCTGAGAAGGACA\n",
       ":   1bcc.su009.pre.tcell_AGACGTTTCCTGCAGG\n",
       ":   8\n",
       "\n",
       "\n",
       "**Levels**: 1. '0'\n",
       "2. '1'\n",
       "3. '2'\n",
       "4. '3'\n",
       "5. '4'\n",
       "6. '5'\n",
       "7. '6'\n",
       "8. '7'\n",
       "9. '8'\n",
       "\n",
       "\n"
      ],
      "text/plain": [
       "bcc.su009.post.tcell_CCATTCGCAATCTACG  bcc.su004.pre.tcell_ACAGCTACACTTCTGC \n",
       "                                    0                                     0 \n",
       " bcc.su006.pre.tcell_CGTGTAAAGTGACTCT bcc.su001.post.tcell_CCTTTCTGTACCGTTA \n",
       "                                    1                                     2 \n",
       " bcc.su007.pre.tcell_ATTTCTGAGAAGGACA  bcc.su009.pre.tcell_AGACGTTTCCTGCAGG \n",
       "                                    1                                     8 \n",
       "Levels: 0 1 2 3 4 5 6 7 8"
      ]
     },
     "metadata": {},
     "output_type": "display_data"
    }
   ],
   "source": [
    "# Cluster the cells\n",
    "# Or you can ask the pipeline to do it by setting \n",
    "# `pipeline.scrna_metabolic.clustered` to `FALSE` in your\n",
    "# `~/.biopipen.toml`\n",
    "\n",
    "seurat_obj <- FindNeighbors(seurat_obj, dims = 1:10)\n",
    "seurat_obj <- FindClusters(seurat_obj, resolution = 0.5)\n",
    "head(Idents(seurat_obj))"
   ]
  },
  {
   "cell_type": "code",
   "execution_count": 23,
   "metadata": {},
   "outputs": [
    {
     "data": {
      "text/html": [
       "<table class=\"dataframe\">\n",
       "<caption>A data.frame: 6 × 11</caption>\n",
       "<thead>\n",
       "\t<tr><th></th><th scope=col>orig.ident</th><th scope=col>nCount_RNA</th><th scope=col>nFeature_RNA</th><th scope=col>patient</th><th scope=col>treatment</th><th scope=col>sort</th><th scope=col>cluster</th><th scope=col>UMAP1</th><th scope=col>UMAP2</th><th scope=col>RNA_snn_res.0.5</th><th scope=col>seurat_clusters</th></tr>\n",
       "\t<tr><th></th><th scope=col>&lt;fct&gt;</th><th scope=col>&lt;dbl&gt;</th><th scope=col>&lt;int&gt;</th><th scope=col>&lt;chr&gt;</th><th scope=col>&lt;chr&gt;</th><th scope=col>&lt;chr&gt;</th><th scope=col>&lt;chr&gt;</th><th scope=col>&lt;dbl&gt;</th><th scope=col>&lt;dbl&gt;</th><th scope=col>&lt;fct&gt;</th><th scope=col>&lt;fct&gt;</th></tr>\n",
       "</thead>\n",
       "<tbody>\n",
       "\t<tr><th scope=row>bcc.su009.post.tcell_CCATTCGCAATCTACG</th><td>bcc.su009.post.tcell</td><td>4242</td><td>1726</td><td>su009</td><td>post</td><td>CD45+ CD3+</td><td>CD8_mem_T_cells</td><td>-9.1816435</td><td> 0.7484789</td><td>0</td><td>0</td></tr>\n",
       "\t<tr><th scope=row>bcc.su004.pre.tcell_ACAGCTACACTTCTGC</th><td>bcc.su004.pre.tcell </td><td>3159</td><td>1466</td><td>su004</td><td>pre </td><td>CD45+ CD3+</td><td>CD8_ex_T_cells </td><td> 4.1067562</td><td> 3.3754938</td><td>0</td><td>0</td></tr>\n",
       "\t<tr><th scope=row>bcc.su006.pre.tcell_CGTGTAAAGTGACTCT</th><td>bcc.su006.pre.tcell </td><td>3279</td><td>1401</td><td>su006</td><td>pre </td><td>CD45+ CD3+</td><td>Tregs          </td><td> 0.4816457</td><td>11.9388428</td><td>1</td><td>1</td></tr>\n",
       "\t<tr><th scope=row>bcc.su001.post.tcell_CCTTTCTGTACCGTTA</th><td>bcc.su001.post.tcell</td><td>5057</td><td>2218</td><td>su001</td><td>post</td><td>CD45+ CD3+</td><td>CD8_ex_T_cells </td><td> 2.3045983</td><td> 7.4856248</td><td>2</td><td>2</td></tr>\n",
       "\t<tr><th scope=row>bcc.su007.pre.tcell_ATTTCTGAGAAGGACA</th><td>bcc.su007.pre.tcell </td><td>3701</td><td>1413</td><td>su007</td><td>pre </td><td>CD45+ CD3+</td><td>CD8_mem_T_cells</td><td>-1.9617293</td><td> 5.5546365</td><td>1</td><td>1</td></tr>\n",
       "\t<tr><th scope=row>bcc.su009.pre.tcell_AGACGTTTCCTGCAGG</th><td>bcc.su009.pre.tcell </td><td>3891</td><td>1593</td><td>su009</td><td>pre </td><td>CD45+ CD3+</td><td>Tcell_prolif   </td><td> 5.2243228</td><td>-1.0460106</td><td>8</td><td>8</td></tr>\n",
       "</tbody>\n",
       "</table>\n"
      ],
      "text/latex": [
       "A data.frame: 6 × 11\n",
       "\\begin{tabular}{r|lllllllllll}\n",
       "  & orig.ident & nCount\\_RNA & nFeature\\_RNA & patient & treatment & sort & cluster & UMAP1 & UMAP2 & RNA\\_snn\\_res.0.5 & seurat\\_clusters\\\\\n",
       "  & <fct> & <dbl> & <int> & <chr> & <chr> & <chr> & <chr> & <dbl> & <dbl> & <fct> & <fct>\\\\\n",
       "\\hline\n",
       "\tbcc.su009.post.tcell\\_CCATTCGCAATCTACG & bcc.su009.post.tcell & 4242 & 1726 & su009 & post & CD45+ CD3+ & CD8\\_mem\\_T\\_cells & -9.1816435 &  0.7484789 & 0 & 0\\\\\n",
       "\tbcc.su004.pre.tcell\\_ACAGCTACACTTCTGC & bcc.su004.pre.tcell  & 3159 & 1466 & su004 & pre  & CD45+ CD3+ & CD8\\_ex\\_T\\_cells  &  4.1067562 &  3.3754938 & 0 & 0\\\\\n",
       "\tbcc.su006.pre.tcell\\_CGTGTAAAGTGACTCT & bcc.su006.pre.tcell  & 3279 & 1401 & su006 & pre  & CD45+ CD3+ & Tregs           &  0.4816457 & 11.9388428 & 1 & 1\\\\\n",
       "\tbcc.su001.post.tcell\\_CCTTTCTGTACCGTTA & bcc.su001.post.tcell & 5057 & 2218 & su001 & post & CD45+ CD3+ & CD8\\_ex\\_T\\_cells  &  2.3045983 &  7.4856248 & 2 & 2\\\\\n",
       "\tbcc.su007.pre.tcell\\_ATTTCTGAGAAGGACA & bcc.su007.pre.tcell  & 3701 & 1413 & su007 & pre  & CD45+ CD3+ & CD8\\_mem\\_T\\_cells & -1.9617293 &  5.5546365 & 1 & 1\\\\\n",
       "\tbcc.su009.pre.tcell\\_AGACGTTTCCTGCAGG & bcc.su009.pre.tcell  & 3891 & 1593 & su009 & pre  & CD45+ CD3+ & Tcell\\_prolif    &  5.2243228 & -1.0460106 & 8 & 8\\\\\n",
       "\\end{tabular}\n"
      ],
      "text/markdown": [
       "\n",
       "A data.frame: 6 × 11\n",
       "\n",
       "| <!--/--> | orig.ident &lt;fct&gt; | nCount_RNA &lt;dbl&gt; | nFeature_RNA &lt;int&gt; | patient &lt;chr&gt; | treatment &lt;chr&gt; | sort &lt;chr&gt; | cluster &lt;chr&gt; | UMAP1 &lt;dbl&gt; | UMAP2 &lt;dbl&gt; | RNA_snn_res.0.5 &lt;fct&gt; | seurat_clusters &lt;fct&gt; |\n",
       "|---|---|---|---|---|---|---|---|---|---|---|---|\n",
       "| bcc.su009.post.tcell_CCATTCGCAATCTACG | bcc.su009.post.tcell | 4242 | 1726 | su009 | post | CD45+ CD3+ | CD8_mem_T_cells | -9.1816435 |  0.7484789 | 0 | 0 |\n",
       "| bcc.su004.pre.tcell_ACAGCTACACTTCTGC | bcc.su004.pre.tcell  | 3159 | 1466 | su004 | pre  | CD45+ CD3+ | CD8_ex_T_cells  |  4.1067562 |  3.3754938 | 0 | 0 |\n",
       "| bcc.su006.pre.tcell_CGTGTAAAGTGACTCT | bcc.su006.pre.tcell  | 3279 | 1401 | su006 | pre  | CD45+ CD3+ | Tregs           |  0.4816457 | 11.9388428 | 1 | 1 |\n",
       "| bcc.su001.post.tcell_CCTTTCTGTACCGTTA | bcc.su001.post.tcell | 5057 | 2218 | su001 | post | CD45+ CD3+ | CD8_ex_T_cells  |  2.3045983 |  7.4856248 | 2 | 2 |\n",
       "| bcc.su007.pre.tcell_ATTTCTGAGAAGGACA | bcc.su007.pre.tcell  | 3701 | 1413 | su007 | pre  | CD45+ CD3+ | CD8_mem_T_cells | -1.9617293 |  5.5546365 | 1 | 1 |\n",
       "| bcc.su009.pre.tcell_AGACGTTTCCTGCAGG | bcc.su009.pre.tcell  | 3891 | 1593 | su009 | pre  | CD45+ CD3+ | Tcell_prolif    |  5.2243228 | -1.0460106 | 8 | 8 |\n",
       "\n"
      ],
      "text/plain": [
       "                                      orig.ident           nCount_RNA\n",
       "bcc.su009.post.tcell_CCATTCGCAATCTACG bcc.su009.post.tcell 4242      \n",
       "bcc.su004.pre.tcell_ACAGCTACACTTCTGC  bcc.su004.pre.tcell  3159      \n",
       "bcc.su006.pre.tcell_CGTGTAAAGTGACTCT  bcc.su006.pre.tcell  3279      \n",
       "bcc.su001.post.tcell_CCTTTCTGTACCGTTA bcc.su001.post.tcell 5057      \n",
       "bcc.su007.pre.tcell_ATTTCTGAGAAGGACA  bcc.su007.pre.tcell  3701      \n",
       "bcc.su009.pre.tcell_AGACGTTTCCTGCAGG  bcc.su009.pre.tcell  3891      \n",
       "                                      nFeature_RNA patient treatment sort      \n",
       "bcc.su009.post.tcell_CCATTCGCAATCTACG 1726         su009   post      CD45+ CD3+\n",
       "bcc.su004.pre.tcell_ACAGCTACACTTCTGC  1466         su004   pre       CD45+ CD3+\n",
       "bcc.su006.pre.tcell_CGTGTAAAGTGACTCT  1401         su006   pre       CD45+ CD3+\n",
       "bcc.su001.post.tcell_CCTTTCTGTACCGTTA 2218         su001   post      CD45+ CD3+\n",
       "bcc.su007.pre.tcell_ATTTCTGAGAAGGACA  1413         su007   pre       CD45+ CD3+\n",
       "bcc.su009.pre.tcell_AGACGTTTCCTGCAGG  1593         su009   pre       CD45+ CD3+\n",
       "                                      cluster         UMAP1      UMAP2     \n",
       "bcc.su009.post.tcell_CCATTCGCAATCTACG CD8_mem_T_cells -9.1816435  0.7484789\n",
       "bcc.su004.pre.tcell_ACAGCTACACTTCTGC  CD8_ex_T_cells   4.1067562  3.3754938\n",
       "bcc.su006.pre.tcell_CGTGTAAAGTGACTCT  Tregs            0.4816457 11.9388428\n",
       "bcc.su001.post.tcell_CCTTTCTGTACCGTTA CD8_ex_T_cells   2.3045983  7.4856248\n",
       "bcc.su007.pre.tcell_ATTTCTGAGAAGGACA  CD8_mem_T_cells -1.9617293  5.5546365\n",
       "bcc.su009.pre.tcell_AGACGTTTCCTGCAGG  Tcell_prolif     5.2243228 -1.0460106\n",
       "                                      RNA_snn_res.0.5 seurat_clusters\n",
       "bcc.su009.post.tcell_CCATTCGCAATCTACG 0               0              \n",
       "bcc.su004.pre.tcell_ACAGCTACACTTCTGC  0               0              \n",
       "bcc.su006.pre.tcell_CGTGTAAAGTGACTCT  1               1              \n",
       "bcc.su001.post.tcell_CCTTTCTGTACCGTTA 2               2              \n",
       "bcc.su007.pre.tcell_ATTTCTGAGAAGGACA  1               1              \n",
       "bcc.su009.pre.tcell_AGACGTTTCCTGCAGG  8               8              "
      ]
     },
     "metadata": {},
     "output_type": "display_data"
    }
   ],
   "source": [
    "head(seurat_obj@meta.data)"
   ]
  },
  {
   "cell_type": "code",
   "execution_count": 24,
   "metadata": {},
   "outputs": [],
   "source": [
    "saveRDS(seurat_obj, \"test_data/scrna_metabolic/seurat_obj.rds\")"
   ]
  },
  {
   "cell_type": "code",
   "execution_count": 25,
   "metadata": {},
   "outputs": [
    {
     "data": {
      "text/plain": [
       "\n",
       "su001 su002 su003 su004 su005 su006 su007 su008 su009 su010 su012 \n",
       "  204     4    23    23   137   178    43   145   165    13    65 "
      ]
     },
     "metadata": {},
     "output_type": "display_data"
    }
   ],
   "source": [
    "table(seurat_obj@meta.data$patient)"
   ]
  }
 ],
 "metadata": {
  "kernelspec": {
   "display_name": "R",
   "language": "R",
   "name": "ir"
  },
  "language_info": {
   "codemirror_mode": "r",
   "file_extension": ".r",
   "mimetype": "text/x-r-source",
   "name": "R",
   "pygments_lexer": "r",
   "version": "4.1.1"
  },
  "orig_nbformat": 4
 },
 "nbformat": 4,
 "nbformat_minor": 2
}
